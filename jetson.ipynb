{
 "cells": [
  {
   "cell_type": "code",
   "execution_count": 2,
   "metadata": {},
   "outputs": [
    {
     "ename": "IndentationError",
     "evalue": "unindent does not match any outer indentation level (<tokenize>, line 49)",
     "output_type": "error",
     "traceback": [
      "\u001b[1;36m  File \u001b[1;32m\"<tokenize>\"\u001b[1;36m, line \u001b[1;32m49\u001b[0m\n\u001b[1;33m    cv2.imshow('Object detection',img)\u001b[0m\n\u001b[1;37m    ^\u001b[0m\n\u001b[1;31mIndentationError\u001b[0m\u001b[1;31m:\u001b[0m unindent does not match any outer indentation level\n"
     ]
    }
   ],
   "source": [
    "import numpy as np\n",
    "import cv2\n",
    "import playsound #1.2.2 \n",
    "# import winsound\n",
    "\n",
    "classes = []\n",
    "f = open('/home/qwer/obj.names.txt', 'r')\n",
    "classes = [line.strip() for line in f.readlines()]\n",
    "colors = np.random.uniform(0, 255, size=(len(classes), 3))\n",
    "\n",
    "yolo_model = cv2.dnn.readNet(\n",
    "    '/home/qwer/yolov4-tiny-ph.cfg', '/home/qwer/yolov4-tiny-ph_best.weights')  # 욜로 읽어오기\n",
    "layer_names = yolo_model.getLayerNames()\n",
    "output_layers = [layer_names[i[0] - 1]\n",
    "    for i in yolo_model.getUnconnectedOutLayers()]\n",
    "\n",
    "\n",
    "def process_video():  # 비디오에서 침입자 검출해 알리기\n",
    "   video = cv2.VideoCapture('nvarguscamerasrc ! video/x-raw(memory:NVMM), width=416, height=416, format=(string)NV12, framerate=(fraction)30/1 ! nvvidconv ! video/x-raw, format=(string)BGRx ! videoconvert ! video/x-raw, format=(string)BGR ! appsink', cv2.CAP_GSTREAMER)\n",
    "   while video.isOpened():\n",
    "       success, img = video.read()\n",
    "       if success:\n",
    "           height, width, channels = img.shape\n",
    "           blob = cv2.dnn.blobFromImage(\n",
    "               img, 1.0/256, (416, 416), (0, 0, 0), swapRB=True, crop=False)\n",
    "\n",
    "           yolo_model.setInput(blob)\n",
    "           output3 = yolo_model.forward(output_layers)\n",
    "\n",
    "           class_ids, confidences, boxes = [], [], []\n",
    "           for output in output3:\n",
    "               for vec85 in output:\n",
    "                   scores = vec85[5:]\n",
    "                   class_id = np.argmax(scores)\n",
    "                   confidence = scores[class_id]\n",
    "                   if confidence > 0.2:  # 신뢰도가 50% 이상인 경우만 취함\n",
    "                       # [0,1] 표현을 영상 크기로 변환\n",
    "                       centerx, centery = int(\n",
    "                           vec85[0]*width), int(vec85[1]*height)\n",
    "                       w, h = int(vec85[2]*width), int(vec85[3]*height)\n",
    "                       x, y = int(centerx-w/2), int(centery-h/2)\n",
    "                       boxes.append([x, y, w, h])\n",
    "                       confidences.append(float(confidence))\n",
    "                       class_ids.append(class_id)\n",
    "\n",
    "           indexes = cv2.dnn.NMSBoxes(boxes, confidences, 0.5, 0.4)\n",
    "\n",
    "           for i in range(len(boxes)):\n",
    "               if i in indexes:\n",
    "                   x, y, w, h = boxes[i]\n",
    "                   text = str(classes[class_ids[i]])+'%.3f' % confidences[i]\n",
    "                   cv2.rectangle(img, (x, y), (x+w, y+h),\n",
    "                                 colors[class_ids[i]], 2)\n",
    "                   cv2.putText(img, text, (x, y+30),\n",
    "                               cv2.FONT_HERSHEY_PLAIN, 2, colors[class_ids[i]], 2)\n",
    "\n",
    "\n",
    "           cv2.imshow('pothole detection',img)\n",
    "\n",
    "           if 5 in class_ids:\n",
    "                print('포트홀 인식')  \n",
    "                #winsound.Beep(frequency=3000, duration=60) # 길게 하면 영상이 지연 댐 \n",
    "                playsound.playsound('beep1.mp3')\n",
    "                \n",
    "                cv2.imwrite(\"%s_%d.jpg\" % (filepath, i, 0), img) # 이미지 저장\n",
    "                i += 1 # 이미지 저장\n",
    "           \n",
    "            # else :\n",
    "                # print('인식 대기중') # 작동 확인용\n",
    "\n",
    "        key = cv2.waitKey(1) & 0xFF\n",
    "        if key == 27:\n",
    "            break  # esc\n",
    "\n",
    "    video.release()\n",
    "    cv2.destroyAllWindows()\n",
    "\n",
    "\n",
    "process_video()\n"
   ]
  },
  {
   "cell_type": "code",
   "execution_count": null,
   "metadata": {},
   "outputs": [],
   "source": []
  }
 ],
 "metadata": {
  "kernelspec": {
   "display_name": "Python 3 (ipykernel)",
   "language": "python",
   "name": "python3"
  },
  "language_info": {
   "codemirror_mode": {
    "name": "ipython",
    "version": 3
   },
   "file_extension": ".py",
   "mimetype": "text/x-python",
   "name": "python",
   "nbconvert_exporter": "python",
   "pygments_lexer": "ipython3",
   "version": "3.9.13"
  },
  "vscode": {
   "interpreter": {
    "hash": "52cc71cbcaea0aad5497ef400dae43cbac5d68d5eee5ee25eeadcc6f9063b553"
   }
  }
 },
 "nbformat": 4,
 "nbformat_minor": 4
}
